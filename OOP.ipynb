{
 "cells": [
  {
   "cell_type": "markdown",
   "metadata": {},
   "source": [
    "# Python - Object Oriented Programming (OOP)"
   ]
  },
  {
   "cell_type": "markdown",
   "metadata": {},
   "source": [
    "#### https://www.youtube.com/playlist?list=PLS1QulWo1RIZuCYHd7QUVCQbBxEhu9aDP"
   ]
  },
  {
   "cell_type": "code",
   "execution_count": null,
   "metadata": {},
   "outputs": [],
   "source": [
    "# Pandas is not necessary for the OOP training\n",
    "import pandas as pd"
   ]
  },
  {
   "cell_type": "markdown",
   "metadata": {},
   "source": [
    "\\pagebreak"
   ]
  },
  {
   "cell_type": "markdown",
   "metadata": {},
   "source": [
    "# Introduction"
   ]
  },
  {
   "cell_type": "code",
   "execution_count": null,
   "metadata": {},
   "outputs": [],
   "source": [
    "'''\n",
    "class Cab {\n",
    "    cabService, make, location, numberPlate  # data ; data in an object are known as 'attributes'\n",
    "    book(), arrival(), start()               # methods ; procedures/functions\n",
    "}\n",
    "\n",
    "class CabDriver {\n",
    "    name, employeeID                         # data ; data in an object are known as 'attributes'\n",
    "    openDoor(), drive()                      # methods ; procedures/functions\n",
    "}\n",
    "\n",
    "class passenger {\n",
    "    name, address                            # data ; data in an object are known as 'attributes'\n",
    "    openApp(), bookCab(), walk()             # methods ; procedures/functions\n",
    "}\n",
    "'''"
   ]
  },
  {
   "cell_type": "code",
   "execution_count": null,
   "metadata": {},
   "outputs": [],
   "source": [
    "class Car:\n",
    "    pass"
   ]
  },
  {
   "cell_type": "code",
   "execution_count": null,
   "metadata": {},
   "outputs": [],
   "source": [
    "ford = Car()     # instance of the Class Car()\n",
    "honda = Car()\n",
    "audi = Car()"
   ]
  },
  {
   "cell_type": "code",
   "execution_count": null,
   "metadata": {},
   "outputs": [],
   "source": [
    "print('Speed' + '\\t' + 'Color')\n",
    "\n",
    "ford.speed = 200\n",
    "ford.color = 'red'\n",
    "print(ford.color + '\\t' + str(ford.speed))\n",
    "\n",
    "honda.speed = 220\n",
    "honda.color = 'green'\n",
    "print(honda.color + '\\t' + str(honda.speed))\n",
    "\n",
    "audi.speed = 250\n",
    "audi.color = 'blue'\n",
    "print(audi.color + '\\t' + str(audi.speed))"
   ]
  },
  {
   "cell_type": "markdown",
   "metadata": {},
   "source": [
    "\\pagebreak"
   ]
  },
  {
   "cell_type": "markdown",
   "metadata": {},
   "source": [
    "# Loading instance attributes in Pandas DataFrame (nice to know)"
   ]
  },
  {
   "cell_type": "code",
   "execution_count": null,
   "metadata": {},
   "outputs": [],
   "source": [
    "df = pd.DataFrame()"
   ]
  },
  {
   "cell_type": "code",
   "execution_count": null,
   "metadata": {},
   "outputs": [],
   "source": [
    "df['model'] = ['Ford', 'Honda', 'Audi']\n",
    "df['speed'] = [ford.speed, honda.speed, audi.speed]\n",
    "df['color'] = [ford.color, honda.color, audi.color]"
   ]
  },
  {
   "cell_type": "code",
   "execution_count": null,
   "metadata": {},
   "outputs": [],
   "source": [
    "df"
   ]
  },
  {
   "cell_type": "markdown",
   "metadata": {},
   "source": [
    "\\pagebreak"
   ]
  },
  {
   "cell_type": "markdown",
   "metadata": {},
   "source": [
    "# Back To OOP"
   ]
  },
  {
   "cell_type": "code",
   "execution_count": null,
   "metadata": {},
   "outputs": [],
   "source": [
    "print('' + '\\t' + 'Speed' + '\\t' + 'Color')\n",
    "\n",
    "ford.speed = 200\n",
    "ford.color = 'red'\n",
    "print('Ford' + '\\t' + ford.color + '\\t' + str(ford.speed))\n",
    "print('\\nChanged to:')\n",
    "print('' + '\\t' + 'Speed' + '\\t' + 'Color')\n",
    "ford.speed = 250\n",
    "ford.color = 'yellow'\n",
    "print('Ford' + '\\t' + ford.color + '\\t' + str(ford.speed))"
   ]
  },
  {
   "cell_type": "markdown",
   "metadata": {},
   "source": [
    "\\pagebreak"
   ]
  },
  {
   "cell_type": "markdown",
   "metadata": {},
   "source": [
    "# Create a new Class"
   ]
  },
  {
   "cell_type": "code",
   "execution_count": null,
   "metadata": {},
   "outputs": [],
   "source": [
    "class Rectangle:\n",
    "    pass"
   ]
  },
  {
   "cell_type": "code",
   "execution_count": null,
   "metadata": {},
   "outputs": [],
   "source": [
    "rect1 = Rectangle()\n",
    "rect2 = Rectangle()"
   ]
  },
  {
   "cell_type": "code",
   "execution_count": null,
   "metadata": {},
   "outputs": [],
   "source": [
    "rect1.height = 20\n",
    "rect1.width = 40\n",
    "\n",
    "rect2.height = 30\n",
    "rect2.width = 10"
   ]
  },
  {
   "cell_type": "code",
   "execution_count": null,
   "metadata": {},
   "outputs": [],
   "source": [
    "print(rect1.height * rect1.width)\n",
    "print(rect2.height * rect2.width)"
   ]
  },
  {
   "cell_type": "markdown",
   "metadata": {},
   "source": [
    "\\pagebreak"
   ]
  },
  {
   "cell_type": "markdown",
   "metadata": {},
   "source": [
    "# Re-Create Car() class"
   ]
  },
  {
   "cell_type": "code",
   "execution_count": null,
   "metadata": {},
   "outputs": [],
   "source": [
    "class Car:\n",
    "    def __init__(self):   # constructor for the class (first method to be called)\n",
    "        print('the __init__ is called')"
   ]
  },
  {
   "cell_type": "code",
   "execution_count": null,
   "metadata": {},
   "outputs": [],
   "source": [
    "car1 = Car()"
   ]
  },
  {
   "cell_type": "code",
   "execution_count": null,
   "metadata": {},
   "outputs": [],
   "source": [
    "car2 = Car()\n",
    "car3 = Car()"
   ]
  },
  {
   "cell_type": "markdown",
   "metadata": {},
   "source": [
    "\\pagebreak"
   ]
  },
  {
   "cell_type": "markdown",
   "metadata": {},
   "source": [
    "# Re-Create Car() class - Again"
   ]
  },
  {
   "cell_type": "code",
   "execution_count": null,
   "metadata": {},
   "outputs": [],
   "source": [
    "class Car:\n",
    "    def __init__(self, speed, color):   # constructor for the class (first method to be called)\n",
    "        print('the __init__ is called')\n",
    "        print(speed, color)\n",
    "        self.speed = speed\n",
    "        self.color = color"
   ]
  },
  {
   "cell_type": "code",
   "execution_count": null,
   "metadata": {},
   "outputs": [],
   "source": [
    "ford = Car(200, 'red')\n",
    "honda = Car(220, 'green')\n",
    "audi = Car(250, 'blue')"
   ]
  },
  {
   "cell_type": "code",
   "execution_count": null,
   "metadata": {},
   "outputs": [],
   "source": [
    "print('' + '\\t' + 'Speed' + '\\t' + 'Color')\n",
    "\n",
    "ford.speed = 200\n",
    "ford.color = 'red'\n",
    "print('Ford' + '\\t' + ford.color + '\\t' + str(ford.speed))\n",
    "print('Honda' + '\\t' + honda.color + '\\t' + str(honda.speed))\n",
    "print('Audi' + '\\t' + audi.color + '\\t' + str(audi.speed))"
   ]
  },
  {
   "cell_type": "markdown",
   "metadata": {},
   "source": [
    "\\pagebreak"
   ]
  },
  {
   "cell_type": "markdown",
   "metadata": {},
   "source": [
    "# Encapsulation"
   ]
  },
  {
   "cell_type": "code",
   "execution_count": null,
   "metadata": {},
   "outputs": [],
   "source": [
    "class Car:\n",
    "    def __init__(self, speed, color):   # constructor for the class (first method to be called)\n",
    "        self.__speed = speed            # '__' (double underscore makes attribute private)\n",
    "        self.__color = color            # '__' (double underscore makes attribute private)\n",
    "        \n",
    "    def set_speed(self, value):\n",
    "        self.__speed = value\n",
    "        \n",
    "    def get_speed(self):\n",
    "        return self.__speed\n",
    "    \n",
    "    def set_color(self, value):\n",
    "        self.__color = value\n",
    "        \n",
    "    def get_color(self):\n",
    "        return self.__color"
   ]
  },
  {
   "cell_type": "code",
   "execution_count": null,
   "metadata": {},
   "outputs": [],
   "source": [
    "ford = Car(200, 'red')\n",
    "honda = Car(220, 'green')\n",
    "audi = Car(250, 'blue')"
   ]
  },
  {
   "cell_type": "code",
   "execution_count": null,
   "metadata": {},
   "outputs": [],
   "source": [
    "print(ford.get_speed())\n",
    "print(ford.get_color())\n",
    "\n",
    "ford.set_speed(250)\n",
    "ford.set_color('gray')\n",
    "\n",
    "print('\\nChanged to:')\n",
    "print(ford.get_speed())\n",
    "print(ford.get_color())"
   ]
  },
  {
   "cell_type": "markdown",
   "metadata": {},
   "source": [
    "\\pagebreak"
   ]
  },
  {
   "cell_type": "markdown",
   "metadata": {},
   "source": [
    "# Re-Create Rectangle() class - Again"
   ]
  },
  {
   "cell_type": "code",
   "execution_count": null,
   "metadata": {},
   "outputs": [],
   "source": [
    "class Rectangle:\n",
    "    def __init__(self, height, width):\n",
    "        self.__height = height\n",
    "        self.__width = width\n",
    "        \n",
    "    def totals(self):\n",
    "        return self.__height * self.__width"
   ]
  },
  {
   "cell_type": "code",
   "execution_count": null,
   "metadata": {},
   "outputs": [],
   "source": [
    "rect1 = Rectangle(20, 60)\n",
    "rect2 = Rectangle(50, 40)"
   ]
  },
  {
   "cell_type": "code",
   "execution_count": null,
   "metadata": {},
   "outputs": [],
   "source": [
    "print(rect1.totals())\n",
    "print(rect2.totals())"
   ]
  },
  {
   "cell_type": "markdown",
   "metadata": {},
   "source": [
    "\\pagebreak"
   ]
  },
  {
   "cell_type": "markdown",
   "metadata": {},
   "source": [
    "# Hello Example - Private variables"
   ]
  },
  {
   "cell_type": "code",
   "execution_count": null,
   "metadata": {},
   "outputs": [],
   "source": [
    "class Hello:\n",
    "    def __init__(self, name):\n",
    "        self.a = 10\n",
    "        self._b = 20\n",
    "        self.__c = 30\n",
    "        \n",
    "    def public_method(self):\n",
    "        print(self.a)\n",
    "        print(self.__c)\n",
    "        print('public method')\n",
    "        self.__private_method()\n",
    "        \n",
    "    def __private_method(self):\n",
    "        print('private method')"
   ]
  },
  {
   "cell_type": "code",
   "execution_count": null,
   "metadata": {},
   "outputs": [],
   "source": [
    "hoi = Hello('Lex')"
   ]
  },
  {
   "cell_type": "code",
   "execution_count": null,
   "metadata": {},
   "outputs": [],
   "source": [
    "hoi.public_method()"
   ]
  },
  {
   "cell_type": "markdown",
   "metadata": {},
   "source": [
    "\\pagebreak"
   ]
  },
  {
   "cell_type": "markdown",
   "metadata": {},
   "source": [
    "# Inheritance"
   ]
  },
  {
   "cell_type": "code",
   "execution_count": null,
   "metadata": {},
   "outputs": [],
   "source": [
    "class Polygon:\n",
    "    __width = None\n",
    "    __height = None\n",
    "    \n",
    "    def set_values(self, width, height):\n",
    "        self.__width = width\n",
    "        self.__height = height\n",
    "        \n",
    "    def get_width(self):\n",
    "        return self.__width\n",
    "    \n",
    "    def get_height(self):\n",
    "        return self.__height\n",
    "        \n",
    "class Rectangle(Polygon):\n",
    "    def area(self):\n",
    "        return self.get_width() * self.get_height()\n",
    "    \n",
    "class Triangle(Polygon):\n",
    "    def area(self):\n",
    "        return self.get_width() * self.get_height() / 2\n"
   ]
  },
  {
   "cell_type": "code",
   "execution_count": null,
   "metadata": {},
   "outputs": [],
   "source": [
    "rect = Rectangle()\n",
    "tri = Triangle()"
   ]
  },
  {
   "cell_type": "code",
   "execution_count": null,
   "metadata": {},
   "outputs": [],
   "source": [
    "rect.set_values(50, 40)"
   ]
  },
  {
   "cell_type": "code",
   "execution_count": null,
   "metadata": {},
   "outputs": [],
   "source": [
    "tri.set_values(50,40)"
   ]
  },
  {
   "cell_type": "code",
   "execution_count": null,
   "metadata": {},
   "outputs": [],
   "source": [
    "print(rect.area())\n",
    "print(tri.area())"
   ]
  },
  {
   "cell_type": "markdown",
   "metadata": {},
   "source": [
    "\\pagebreak"
   ]
  },
  {
   "cell_type": "markdown",
   "metadata": {},
   "source": [
    "# From here start: main.py"
   ]
  },
  {
   "cell_type": "code",
   "execution_count": null,
   "metadata": {},
   "outputs": [],
   "source": [
    "# go to the terminal and launch main.py"
   ]
  },
  {
   "cell_type": "code",
   "execution_count": null,
   "metadata": {},
   "outputs": [],
   "source": [
    "# Inheritance | Multiple Inheritance"
   ]
  },
  {
   "cell_type": "code",
   "execution_count": null,
   "metadata": {},
   "outputs": [],
   "source": [
    "# after that, come back here"
   ]
  },
  {
   "cell_type": "markdown",
   "metadata": {},
   "source": [
    "\\pagebreak"
   ]
  },
  {
   "cell_type": "markdown",
   "metadata": {},
   "source": [
    "# Understanding: Python super() Function"
   ]
  },
  {
   "cell_type": "code",
   "execution_count": null,
   "metadata": {},
   "outputs": [],
   "source": [
    "class Parent:\n",
    "    def __init__(self, name):\n",
    "        print('Parent __init__', name)\n",
    "\n",
    "class Parent2:\n",
    "    def __init__(self, name):\n",
    "        print('Parent2 __init__', name)\n",
    "        \n",
    "class Child(Parent, Parent2):\n",
    "    def __init__(self):\n",
    "        print('Child __init__')\n",
    "        super().__init__('Lex Boerhoop')"
   ]
  },
  {
   "cell_type": "code",
   "execution_count": null,
   "metadata": {},
   "outputs": [],
   "source": [
    "child = Child()"
   ]
  },
  {
   "cell_type": "code",
   "execution_count": null,
   "metadata": {},
   "outputs": [],
   "source": [
    "print(Child.__mro__)   # mro = Method Resoluation Order"
   ]
  },
  {
   "cell_type": "code",
   "execution_count": null,
   "metadata": {},
   "outputs": [],
   "source": [
    "class Child(Parent2, Parent):\n",
    "    def __init__(self):\n",
    "        print('Child __init__')\n",
    "        super().__init__('Lex Boerhoop')"
   ]
  },
  {
   "cell_type": "code",
   "execution_count": null,
   "metadata": {},
   "outputs": [],
   "source": [
    "print(Child.__mro__)   # mro = Method Resoluation Order"
   ]
  },
  {
   "cell_type": "code",
   "execution_count": null,
   "metadata": {},
   "outputs": [],
   "source": [
    "class Child(Parent2, Parent):\n",
    "    def __init__(self):\n",
    "        print('Child __init__')\n",
    "        Parent2.__init__(self, 'Lex Boerhoop')\n",
    "        Parent.__init__(self, 'Arie Bombarie')"
   ]
  },
  {
   "cell_type": "code",
   "execution_count": null,
   "metadata": {},
   "outputs": [],
   "source": [
    "print(Child.__mro__)   # mro = Method Resoluation Order"
   ]
  },
  {
   "cell_type": "markdown",
   "metadata": {},
   "source": [
    "\\pagebreak"
   ]
  },
  {
   "cell_type": "code",
   "execution_count": null,
   "metadata": {},
   "outputs": [],
   "source": [
    "child = Child()\n"
   ]
  },
  {
   "cell_type": "markdown",
   "metadata": {},
   "source": [
    "\\pagebreak"
   ]
  },
  {
   "cell_type": "markdown",
   "metadata": {},
   "source": [
    "# Composition and Aggregation"
   ]
  },
  {
   "cell_type": "markdown",
   "metadata": {},
   "source": [
    "#### Composition"
   ]
  },
  {
   "cell_type": "code",
   "execution_count": null,
   "metadata": {},
   "outputs": [],
   "source": [
    "class Salary:\n",
    "    def __init__(self, pay, bonus):\n",
    "        self.pay = pay\n",
    "        self.bonus = bonus\n",
    "        \n",
    "    def annual_salary(self):\n",
    "        return (self.pay * 12) + self.bonus\n",
    "    \n",
    "class Employee:\n",
    "    def __init__(self, name, age, pay, bonus):\n",
    "        self.name = name\n",
    "        self.age = age\n",
    "        self.obj_salary = Salary(pay, bonus)\n",
    "\n",
    "    def total_salary(self):\n",
    "        return self.obj_salary.annual_salary()"
   ]
  },
  {
   "cell_type": "code",
   "execution_count": null,
   "metadata": {},
   "outputs": [],
   "source": [
    "emp1 = Employee('Lex', 54, 10000, 2000)"
   ]
  },
  {
   "cell_type": "code",
   "execution_count": null,
   "metadata": {},
   "outputs": [],
   "source": [
    "print(emp1.total_salary())"
   ]
  },
  {
   "cell_type": "markdown",
   "metadata": {},
   "source": [
    "\\pagebreak"
   ]
  },
  {
   "cell_type": "markdown",
   "metadata": {},
   "source": [
    "#### Aggregation"
   ]
  },
  {
   "cell_type": "code",
   "execution_count": null,
   "metadata": {},
   "outputs": [],
   "source": [
    "class Salary:\n",
    "    def __init__(self, pay, bonus):\n",
    "        self.pay = pay\n",
    "        self.bonus = bonus\n",
    "        \n",
    "    def annual_salary(self):\n",
    "        return (self.pay * 12) + self.bonus\n",
    "    \n",
    "class Employee:\n",
    "    def __init__(self, name, age, salary):\n",
    "        self.name = name\n",
    "        self.age = age\n",
    "        self.obj_salary = salary\n",
    "\n",
    "    def total_salary(self):\n",
    "        return self.obj_salary.annual_salary()\n",
    "    "
   ]
  },
  {
   "cell_type": "code",
   "execution_count": null,
   "metadata": {},
   "outputs": [],
   "source": [
    "salary = Salary(15000, 10000)\n",
    "emp = Employee('Lex', 54, salary)\n",
    "print(emp.total_salary())"
   ]
  },
  {
   "cell_type": "markdown",
   "metadata": {},
   "source": [
    "\\pagebreak"
   ]
  },
  {
   "cell_type": "markdown",
   "metadata": {},
   "source": [
    "# Abstract Classes"
   ]
  },
  {
   "cell_type": "code",
   "execution_count": null,
   "metadata": {},
   "outputs": [],
   "source": [
    "from abc import ABC, abstractmethod"
   ]
  },
  {
   "cell_type": "code",
   "execution_count": null,
   "metadata": {},
   "outputs": [],
   "source": [
    "class Shape(ABC):\n",
    "    @abstractmethod\n",
    "    def area(self): pass\n",
    "    \n",
    "    @abstractmethod\n",
    "    def perimeter(self): pass\n",
    "    \n",
    "class Square(Shape):\n",
    "    def __init__(self, side):\n",
    "        self.__side = side\n",
    "        \n",
    "    def area(self):\n",
    "        return self.__side * self.__side\n",
    "    \n",
    "    def perimeter(self):\n",
    "        return 4 * self.__side"
   ]
  },
  {
   "cell_type": "code",
   "execution_count": null,
   "metadata": {},
   "outputs": [],
   "source": [
    "square = Square(5)"
   ]
  },
  {
   "cell_type": "code",
   "execution_count": null,
   "metadata": {},
   "outputs": [],
   "source": [
    "print(square.area())          # square    5 = 5 x 5 = 25\n",
    "print(square.perimeter())     # perimeter 5 = 4 x 5 = 20"
   ]
  },
  {
   "cell_type": "markdown",
   "metadata": {},
   "source": [
    "\\pagebreak"
   ]
  },
  {
   "cell_type": "markdown",
   "metadata": {},
   "source": [
    "# Decorators"
   ]
  },
  {
   "cell_type": "code",
   "execution_count": null,
   "metadata": {},
   "outputs": [],
   "source": [
    "def decorator_func(func):\n",
    "    def wrapper_func():\n",
    "        print('X' * 11)\n",
    "        func()\n",
    "        print('Y' * 11)\n",
    "        \n",
    "    return wrapper_func\n",
    "    \n",
    "def say_hello():\n",
    "    print('Hello World')"
   ]
  },
  {
   "cell_type": "code",
   "execution_count": null,
   "metadata": {},
   "outputs": [],
   "source": [
    "hello = decorator_func(say_hello)\n",
    "hello()"
   ]
  },
  {
   "cell_type": "code",
   "execution_count": null,
   "metadata": {},
   "outputs": [],
   "source": [
    "say_hello()"
   ]
  },
  {
   "cell_type": "code",
   "execution_count": null,
   "metadata": {},
   "outputs": [],
   "source": [
    "def decorator_X(func):\n",
    "    def wrapper_func():\n",
    "        print('X' * 11)\n",
    "        func()\n",
    "        print('X' * 11)\n",
    "        \n",
    "    return wrapper_func\n",
    "    \n",
    "def decorator_Y(func):\n",
    "    def wrapper_func():\n",
    "        print('Y' * 11)\n",
    "        func()\n",
    "        print('Y' * 11)\n",
    "        \n",
    "    return wrapper_func\n",
    "\n",
    "@decorator_Y\n",
    "@decorator_X\n",
    "def say_hello():\n",
    "    print('Hello World')"
   ]
  },
  {
   "cell_type": "markdown",
   "metadata": {},
   "source": [
    "\\pagebreak"
   ]
  },
  {
   "cell_type": "code",
   "execution_count": null,
   "metadata": {},
   "outputs": [],
   "source": [
    "say_hello()"
   ]
  },
  {
   "cell_type": "code",
   "execution_count": null,
   "metadata": {},
   "outputs": [],
   "source": [
    "def decorator_divide(func):\n",
    "    def wrapper_func(a, b):\n",
    "        print('divide', a, 'and', b)\n",
    "        if b == 0 :\n",
    "            print('division with zero is not allowed')\n",
    "            return\n",
    "        return a / b\n",
    "        \n",
    "    return wrapper_func\n",
    "\n",
    "@decorator_divide\n",
    "def divide(x, y):\n",
    "    return x / y"
   ]
  },
  {
   "cell_type": "code",
   "execution_count": null,
   "metadata": {},
   "outputs": [],
   "source": [
    "print(divide(15, 5))"
   ]
  },
  {
   "cell_type": "code",
   "execution_count": null,
   "metadata": {},
   "outputs": [],
   "source": [
    "print(divide(15, 0))"
   ]
  },
  {
   "cell_type": "markdown",
   "metadata": {},
   "source": [
    "\\pagebreak"
   ]
  },
  {
   "cell_type": "code",
   "execution_count": null,
   "metadata": {},
   "outputs": [],
   "source": [
    "from time import time\n",
    "\n",
    "def timing(func):\n",
    "    def wrapper_func(*args, **kwargs):\n",
    "        start = time()\n",
    "        result = func(*args, **kwargs)\n",
    "        end = time()\n",
    "        print('Elapsed time: {}'.format(end - start))\n",
    "        return result\n",
    "        \n",
    "    return wrapper_func\n",
    "\n",
    "@timing\n",
    "def my_func(num):\n",
    "    sum = 0\n",
    "    for i in range(num + 1):\n",
    "        sum += 1\n",
    "        \n",
    "    return sum"
   ]
  },
  {
   "cell_type": "code",
   "execution_count": null,
   "metadata": {},
   "outputs": [],
   "source": [
    "print(my_func(200000000))"
   ]
  },
  {
   "cell_type": "markdown",
   "metadata": {},
   "source": [
    "\\pagebreak"
   ]
  },
  {
   "cell_type": "markdown",
   "metadata": {},
   "source": [
    "# Operator Overloading"
   ]
  },
  {
   "cell_type": "code",
   "execution_count": null,
   "metadata": {},
   "outputs": [],
   "source": [
    "print(type(2))\n",
    "print(type(2.0))\n",
    "print(type('2.0'))\n",
    "print(type(True))\n",
    "print(2 + 2)\n",
    "print('2' + '2')\n",
    "print('2' * 3)\n",
    "print(2 * 3)"
   ]
  },
  {
   "cell_type": "code",
   "execution_count": null,
   "metadata": {},
   "outputs": [],
   "source": [
    "class Number:\n",
    "    def __init__(self, num):\n",
    "        self.num = num"
   ]
  },
  {
   "cell_type": "code",
   "execution_count": null,
   "metadata": {},
   "outputs": [],
   "source": [
    "n1 = Number(1)\n",
    "n2 = Number(2)"
   ]
  },
  {
   "cell_type": "code",
   "execution_count": null,
   "metadata": {},
   "outputs": [],
   "source": [
    "n1 + n2"
   ]
  },
  {
   "cell_type": "markdown",
   "metadata": {},
   "source": [
    "\\pagebreak"
   ]
  },
  {
   "cell_type": "code",
   "execution_count": null,
   "metadata": {},
   "outputs": [],
   "source": [
    "class A: pass"
   ]
  },
  {
   "cell_type": "code",
   "execution_count": null,
   "metadata": {},
   "outputs": [],
   "source": [
    "dir(A)"
   ]
  },
  {
   "cell_type": "markdown",
   "metadata": {},
   "source": [
    "\\pagebreak"
   ]
  },
  {
   "cell_type": "markdown",
   "metadata": {},
   "source": [
    "# A real example"
   ]
  },
  {
   "cell_type": "code",
   "execution_count": null,
   "metadata": {},
   "outputs": [],
   "source": [
    "import math"
   ]
  },
  {
   "cell_type": "code",
   "execution_count": null,
   "metadata": {},
   "outputs": [],
   "source": [
    "class Circle:\n",
    "    def __init__(self, radius):\n",
    "        self.__radius = radius\n",
    "        \n",
    "    def setRadius(self, radius):\n",
    "        self.__radius = radius\n",
    "        \n",
    "    def getRadius(self):\n",
    "        return self.__radius\n",
    "    \n",
    "    def area(self):\n",
    "        return math.pi * self.__radius ** 2\n",
    "    \n",
    "    def __add__(self, circle_object):\n",
    "        return Circle(self.__radius + circle_object.__radius)\n",
    "    \n",
    "    def __lt__(self, circle_object):\n",
    "        return (self.__radius < circle_object.__radius)\n",
    "        \n",
    "    def __gt__(self, circle_object):\n",
    "        return (self.__radius > circle_object.__radius)\n",
    "\n",
    "    def __mul__(self, circle_object):\n",
    "        return (self.__radius * circle_object.__radius)\n",
    "\n",
    "    def __str__(self):\n",
    "        return 'Circle area = ' + str(self.area())\n",
    "    "
   ]
  },
  {
   "cell_type": "code",
   "execution_count": null,
   "metadata": {},
   "outputs": [],
   "source": [
    "c1 = Circle(2)\n",
    "c2 = Circle(3)\n",
    "c3 = c1 + c2\n",
    "c4 = c1 < c2\n",
    "c5 = c1 > c2\n",
    "c6 = c1 * c2"
   ]
  },
  {
   "cell_type": "markdown",
   "metadata": {},
   "source": [
    "\\pagebreak"
   ]
  },
  {
   "cell_type": "code",
   "execution_count": null,
   "metadata": {},
   "outputs": [],
   "source": [
    "print(c1.getRadius())\n",
    "print(c2.getRadius())\n",
    "print(c3.getRadius())\n",
    "#print(c4.getRadius())\n",
    "#print(c5.getRadius())\n",
    "#print(c6.getRadius())\n"
   ]
  },
  {
   "cell_type": "code",
   "execution_count": null,
   "metadata": {},
   "outputs": [],
   "source": [
    "print(c1 < c2)\n",
    "print(c1 > c2)\n",
    "print(c1 * c2)\n",
    "print(c3 < c2)\n",
    "print(c3 > c2)\n",
    "print(c3 * c1)\n",
    "print(c3 * c2)\n"
   ]
  },
  {
   "cell_type": "code",
   "execution_count": null,
   "metadata": {},
   "outputs": [],
   "source": [
    "print(dir(c1))\n",
    "print()\n",
    "print(dir(c2))\n",
    "print()\n",
    "print(dir(c3))\n",
    "print()\n",
    "print(dir(c4))\n",
    "print()\n",
    "print(dir(c5))\n",
    "print()\n",
    "print(dir(c6))"
   ]
  },
  {
   "cell_type": "code",
   "execution_count": null,
   "metadata": {},
   "outputs": [],
   "source": [
    "print(str(c1))\n",
    "print(str(c2))\n",
    "print(str(c3))"
   ]
  },
  {
   "cell_type": "markdown",
   "metadata": {},
   "source": [
    "\\pagebreak"
   ]
  },
  {
   "cell_type": "markdown",
   "metadata": {},
   "source": [
    "# How to use the Python Debugger"
   ]
  },
  {
   "cell_type": "code",
   "execution_count": null,
   "metadata": {},
   "outputs": [],
   "source": [
    "# open a terminal and execute: python -m pdb debugging.py"
   ]
  },
  {
   "cell_type": "code",
   "execution_count": null,
   "metadata": {},
   "outputs": [],
   "source": [
    "# pdb is the Python Debugger"
   ]
  },
  {
   "cell_type": "code",
   "execution_count": null,
   "metadata": {},
   "outputs": [],
   "source": [
    "# at the pdb prompt, the following commands where executed"
   ]
  },
  {
   "cell_type": "code",
   "execution_count": null,
   "metadata": {},
   "outputs": [],
   "source": [
    "'''\n",
    "(Pdb) help           (or: h)\n",
    "(Pdb) help next      (or: h n)\n",
    "(Pdb) where          (or: w)\n",
    "(Pdb) next           (or: n)\n",
    "(Pdb) press <enter>  (<enter> repeats the last command 'n' or 'next')\n",
    "(Pdb) press <enter>  (asking for input)\n",
    "(Pdb) press <ctrl-c> \n",
    "(Pdb) continue       (or: c)  !!! 'c' doesn't work for me here 'continue' does\n",
    "(Pdb) 2\n",
    "(Pdb) 4\n",
    "(Pdb) next\n",
    "(Pdb) 3\n",
    "(Pdb) print(x)\n",
    "(Pdb) next\n",
    "(Pdb) 4\n",
    "(Pdb) print(y)\n",
    "(Pdb) whatis x\n",
    "<class 'str'>\n",
    "(Pdb) step\n",
    "(Pdb) next\n",
    "(Pdb) next\n",
    "(Pdb) continue\n",
    "'''"
   ]
  },
  {
   "cell_type": "markdown",
   "metadata": {},
   "source": [
    "\\pagebreak"
   ]
  },
  {
   "cell_type": "code",
   "execution_count": null,
   "metadata": {},
   "outputs": [],
   "source": [
    "# make corrections to the code, we pass 'strings' in place of 'integers'"
   ]
  },
  {
   "cell_type": "code",
   "execution_count": null,
   "metadata": {},
   "outputs": [],
   "source": [
    "# correct the 2 'input' lines of code with: int(input())"
   ]
  },
  {
   "cell_type": "code",
   "execution_count": null,
   "metadata": {},
   "outputs": [],
   "source": [
    "'''\n",
    "(Pdb) break 9\n",
    "Breakpoint 1 at /home/lboerhoop/src/OOP-Python/debugging.py:9\n",
    "(Pdb) continue\n",
    "Num 1 : \n",
    "(Pdb) 3\n",
    "Num 2 :\n",
    "(Pdb) 4\n",
    "z = add(x, y)     (breakpoint)\n",
    "(Pdb) whatis x\n",
    "<class 'str'>     (still is a 'string', the debugger needs a reload after code is eddited)\n",
    "(Pdb) quit\n",
    "'''"
   ]
  },
  {
   "cell_type": "code",
   "execution_count": null,
   "metadata": {},
   "outputs": [],
   "source": [
    "# created debugging2.py"
   ]
  },
  {
   "cell_type": "code",
   "execution_count": null,
   "metadata": {},
   "outputs": [],
   "source": [
    "# start debugging2.py: python debugging2.py"
   ]
  },
  {
   "cell_type": "code",
   "execution_count": null,
   "metadata": {},
   "outputs": [],
   "source": [
    "# after filling in the numbers, the debugger kicks in"
   ]
  },
  {
   "cell_type": "code",
   "execution_count": null,
   "metadata": {},
   "outputs": [],
   "source": [
    "# another way to debug, in the terminal:"
   ]
  },
  {
   "cell_type": "code",
   "execution_count": null,
   "metadata": {},
   "outputs": [],
   "source": [
    "'''\n",
    "python\n",
    ">>> import debugging3\n",
    ">>> import pdb\n",
    ">>> pdb.run('debugging3.main()')\n",
    "> <string>(1)<module>()\n",
    "(Pub) next\n",
    "Num 1 :\n",
    "(Pub) 2\n",
    "Num 2 :\n",
    "(Pub) 3\n",
    "5\n",
    "--Return--\n",
    "> <string>(1)<module>()->None\n",
    "(Pdb) quit\n",
    "\n",
    "'''"
   ]
  },
  {
   "cell_type": "markdown",
   "metadata": {},
   "source": [
    "# End Of Training"
   ]
  }
 ],
 "metadata": {
  "kernelspec": {
   "display_name": "Python 3",
   "language": "python",
   "name": "python3"
  },
  "language_info": {
   "codemirror_mode": {
    "name": "ipython",
    "version": 3
   },
   "file_extension": ".py",
   "mimetype": "text/x-python",
   "name": "python",
   "nbconvert_exporter": "python",
   "pygments_lexer": "ipython3",
   "version": "3.8.0"
  }
 },
 "nbformat": 4,
 "nbformat_minor": 4
}
